{
 "cells": [
  {
   "cell_type": "code",
   "execution_count": 1,
   "metadata": {},
   "outputs": [
    {
     "name": "stdout",
     "output_type": "stream",
     "text": [
      "        ROI                                             Ranges\n",
      "0     ROI 3  [[19, 36], [126, 137], [165, 169], [183, 194],...\n",
      "1     ROI 4  [[16, 34], [122, 135], [147, 154], [182, 192],...\n",
      "2     ROI 5  [[15, 32], [121, 133], [146, 153], [182, 191],...\n",
      "3     ROI 6  [[15, 32], [121, 133], [146, 154], [181, 191],...\n",
      "4     ROI 7  [[14, 31],[120, 132], [145, 152], [181, 190], ...\n",
      "..      ...                                                ...\n",
      "187  ROI 10  [[29, 45], [132, 147], [154, 161], [188, 197],...\n",
      "188  ROI 11  [[29, 45], [132, 147], [155, 162], [189, 198],...\n",
      "189  ROI 12  [[28, 45],  [132, 147], [155, 162], [189, 198]...\n",
      "190  ROI 13  [[28, 44], [132, 146], [154, 161], [188, 197],...\n",
      "191  ROI 14  [[25, 42], [131, 145], [153, 160], [187, 197],...\n",
      "\n",
      "[192 rows x 2 columns]\n"
     ]
    }
   ],
   "source": [
    "import pandas as pd\n",
    "import glob\n",
    "\n",
    "# Step 1: Find all files matching the pattern\n",
    "file_pattern = \"*_formatted_peak_ranges.csv\"\n",
    "file_paths = glob.glob(file_pattern)\n",
    "\n",
    "# Step 2: Read each file into a DataFrame and store them in a list\n",
    "dataframes = []\n",
    "for file_path in file_paths:\n",
    "    df = pd.read_csv(file_path)\n",
    "    dataframes.append(df)\n",
    "\n",
    "# Step 3: Concatenate all DataFrames into one\n",
    "merged_df = pd.concat(dataframes, ignore_index=True)\n",
    "\n",
    "# Optional: Save the merged DataFrame to a new CSV file\n",
    "merged_df.to_csv(\"merged_formatted_peak_ranges.csv\", index=False)\n",
    "\n",
    "# Display the merged DataFrame\n",
    "print(merged_df)"
   ]
  }
 ],
 "metadata": {
  "kernelspec": {
   "display_name": "base",
   "language": "python",
   "name": "python3"
  },
  "language_info": {
   "codemirror_mode": {
    "name": "ipython",
    "version": 3
   },
   "file_extension": ".py",
   "mimetype": "text/x-python",
   "name": "python",
   "nbconvert_exporter": "python",
   "pygments_lexer": "ipython3",
   "version": "3.11.4"
  }
 },
 "nbformat": 4,
 "nbformat_minor": 2
}
